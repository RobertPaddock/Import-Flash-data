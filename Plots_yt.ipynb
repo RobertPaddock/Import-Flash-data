{
 "cells": [
  {
   "cell_type": "code",
   "execution_count": 4,
   "metadata": {},
   "outputs": [],
   "source": [
    "import yt\n",
    "import matplotlib\n",
    "\n",
    "#matplotlib.use(\"Agg\")\n",
    "import numpy as np\n",
    "from matplotlib import pyplot as plt\n",
    "from mpl_toolkits.mplot3d import Axes3D\n",
    "from matplotlib import cm"
   ]
  },
  {
   "cell_type": "code",
   "execution_count": 2,
   "metadata": {},
   "outputs": [
    {
     "name": "stdout",
     "output_type": "stream",
     "text": [
      "\\\\aldaq1.physics.ox.ac.uk\\Archer\\Robert\\Piotr Sims\\FullWidthLowIntensity\\shot-47-fiducial-full-width-1.0e14Wcm-2\n"
     ]
    }
   ],
   "source": [
    "cd \\\\aldaq1.physics.ox.ac.uk\\Archer\\Robert\\Piotr Sims\\FullWidthLowIntensity\\shot-47-fiducial-full-width-1.0e14Wcm-2    "
   ]
  },
  {
   "cell_type": "code",
   "execution_count": 11,
   "metadata": {},
   "outputs": [
    {
     "name": "stdout",
     "output_type": "stream",
     "text": [
      "\\\\aldaq1.physics.ox.ac.uk\\Archer\\Robert\\Piotr Sims\\2D gap structure\\49-5Lbar-2D-hdf5\n"
     ]
    }
   ],
   "source": [
    "cd \\\\aldaq1.physics.ox.ac.uk\\Archer\\Robert\\Piotr Sims\\2D gap structure\\49-5Lbar-2D-hdf5"
   ]
  },
  {
   "cell_type": "code",
   "execution_count": 39,
   "metadata": {},
   "outputs": [
    {
     "name": "stderr",
     "output_type": "stream",
     "text": [
      "yt : [INFO     ] 2022-12-12 15:57:51,987 Parameters: current_time              = 1.0017066047242931e-10\n",
      "yt : [INFO     ] 2022-12-12 15:57:51,987 Parameters: domain_dimensions         = [32 64  1]\n",
      "yt : [INFO     ] 2022-12-12 15:57:51,987 Parameters: domain_left_edge          = [0. 0. 0.]\n",
      "yt : [INFO     ] 2022-12-12 15:57:51,987 Parameters: domain_right_edge         = [0.022 0.027 1.   ]\n",
      "yt : [INFO     ] 2022-12-12 15:57:51,987 Parameters: cosmological_simulation   = 0.0\n"
     ]
    }
   ],
   "source": [
    "#Load the file\n",
    "ds = yt.load(\"lasslab_hdf5_plt_cnt_0010\")\n"
   ]
  },
  {
   "cell_type": "code",
   "execution_count": 40,
   "metadata": {},
   "outputs": [
    {
     "name": "stdout",
     "output_type": "stream",
     "text": [
      "level\t# grids\t       # cells\t     # cells^3\n",
      "----------------------------------------------\n",
      "  0\t     8\t          2048\t            13\n",
      "  1\t    32\t          8192\t            21\n",
      "  2\t   108\t         27648\t            31\n",
      "  3\t   304\t         77824\t            43\n",
      "----------------------------------------------\n",
      "   \t   452\t        115712\n",
      "\n",
      "\n",
      "t = 1.00170660e-10 = 1.00170660e-10 s = 3.17421669e-18 years\n",
      "\n",
      "Smallest Cell:\n",
      "\tWidth: 2.785e-29 Mpc\n",
      "\tWidth: 2.785e-23 pc\n",
      "\tWidth: 5.745e-18 AU\n",
      "\tWidth: 8.594e-05 cm\n"
     ]
    }
   ],
   "source": [
    "ds.print_stats()"
   ]
  },
  {
   "cell_type": "code",
   "execution_count": 41,
   "metadata": {},
   "outputs": [
    {
     "data": {
      "text/plain": [
       "[('flash', 'dens'),\n",
       " ('flash', 'depo'),\n",
       " ('flash', 'pres'),\n",
       " ('flash', 'sumy'),\n",
       " ('flash', 'tar2'),\n",
       " ('flash', 'tar3'),\n",
       " ('flash', 'tar4'),\n",
       " ('flash', 'tele'),\n",
       " ('flash', 'tion'),\n",
       " ('flash', 'velx'),\n",
       " ('flash', 'vely'),\n",
       " ('flash', 'ye')]"
      ]
     },
     "execution_count": 41,
     "metadata": {},
     "output_type": "execute_result"
    }
   ],
   "source": [
    "ds.field_list"
   ]
  },
  {
   "cell_type": "code",
   "execution_count": 42,
   "metadata": {},
   "outputs": [
    {
     "data": {
      "application/vnd.jupyter.widget-view+json": {
       "model_id": "f79be99f3f064371ad34e1601cf0a212",
       "version_major": 2,
       "version_minor": 0
      },
      "text/plain": [
       "HBox(children=(Text(value='0.022', disabled=True), Text(value='0.027', disabled=True), Text(value='1.0', disab…"
      ]
     },
     "metadata": {},
     "output_type": "display_data"
    }
   ],
   "source": [
    "ds.domain_width"
   ]
  },
  {
   "cell_type": "code",
   "execution_count": 45,
   "metadata": {},
   "outputs": [],
   "source": [
    "text_string = float(ds.current_time.to('s'))"
   ]
  },
  {
   "cell_type": "code",
   "execution_count": 50,
   "metadata": {},
   "outputs": [
    {
     "data": {
      "text/plain": [
       "[1.0501531995000593e-11, 1.0501531995000593e-11]"
      ]
     },
     "execution_count": 50,
     "metadata": {},
     "output_type": "execute_result"
    }
   ],
   "source": [
    "List = [text_string]\n",
    "List.append(text_string)\n",
    "List"
   ]
  },
  {
   "cell_type": "code",
   "execution_count": 52,
   "metadata": {},
   "outputs": [
    {
     "data": {
      "text/plain": [
       "[1.0501531995000593e-11]"
      ]
     },
     "execution_count": 52,
     "metadata": {},
     "output_type": "execute_result"
    }
   ],
   "source": []
  },
  {
   "cell_type": "code",
   "execution_count": 21,
   "metadata": {},
   "outputs": [
    {
     "data": {
      "text/html": [
       "<img style=\"max-width:100%%;max-height:100%%;\" src=\"data:image/png;base64,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\"><br>"
      ],
      "text/plain": [
       "<yt.visualization.line_plot.LinePlot at 0x1cf1d7c65f8>"
      ]
     },
     "metadata": {},
     "output_type": "display_data"
    }
   ],
   "source": [
    "#Line plot. We specify the x,y,z coordinates, and the number of points. Only one coord should change\n",
    "plot = yt.LinePlot(\n",
    "    ds, [(\"dens\")],  (0.005, 0.0, 0.0), (0.005, 0.025, 0.0), 1000)\n",
    "plot.show()"
   ]
  },
  {
   "cell_type": "code",
   "execution_count": 43,
   "metadata": {},
   "outputs": [
    {
     "name": "stderr",
     "output_type": "stream",
     "text": [
      "yt : [INFO     ] 2022-12-12 15:57:59,994 xlim = -0.017000 0.039000\n",
      "yt : [INFO     ] 2022-12-12 15:57:59,994 ylim = -0.014500 0.041500\n",
      "yt : [INFO     ] 2022-12-12 15:57:59,994 xlim = -0.017000 0.039000\n",
      "yt : [INFO     ] 2022-12-12 15:57:59,994 ylim = -0.014500 0.041500\n",
      "yt : [INFO     ] 2022-12-12 15:57:59,994 Making a fixed resolution buffer of (('flash', 'dens')) 800 by 800\n"
     ]
    },
    {
     "data": {
      "text/html": [
       "<img style=\"max-width:100%%;max-height:100%%;\" src=\"data:image/png;base64,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\"><br>"
      ],
      "text/plain": [
       "<yt.visualization.plot_window.AxisAlignedSlicePlot at 0x1e13ce07c50>"
      ]
     },
     "metadata": {},
     "output_type": "display_data"
    }
   ],
   "source": [
    "#Slice plot. Say which variable we should slice through 'z', and a width of the slice to take.\n",
    "#slice = yt.SlicePlot(ds, \"z\", (\"dens\"), width=(0.022, \"cm\"))\n",
    "slice = yt.SlicePlot(ds, \"z\", (\"dens\"), width=(0.056, \"cm\"))\n",
    "slice.show()"
   ]
  },
  {
   "cell_type": "code",
   "execution_count": 73,
   "metadata": {},
   "outputs": [
    {
     "name": "stderr",
     "output_type": "stream",
     "text": [
      "yt : [INFO     ] 2022-12-12 16:01:08,138 Making a fixed resolution buffer of (dens) 1000 by 1000\n"
     ]
    },
    {
     "data": {
      "text/plain": [
       "<matplotlib.image.AxesImage at 0x1e1438ed588>"
      ]
     },
     "execution_count": 73,
     "metadata": {},
     "output_type": "execute_result"
    },
    {
     "data": {
      "image/png": "[encoded data removed]",
      "text/plain": [
       "<Figure size 432x288 with 1 Axes>"
      ]
     },
     "metadata": {
      "needs_background": "light"
     },
     "output_type": "display_data"
    }
   ],
   "source": [
    "#Now we formally slice the data. Again, say which axis to slice normal too, and where on that axis we should slice.\n",
    "slice = ds.slice(\"z\", 0)\n",
    "\n",
    "#Choose a width, and resolution, as above.\n",
    "width = (0.022,  \"cm\")  # we want a 1.5 mpc view\n",
    "res = [1000, 1000]  # create an image with 1000x1000 pixels\n",
    "\n",
    "#Generate the frb. To do this choose a center for the domain. The domain width tells us the extremes, so I have just picked in the middle\n",
    "frb = slice.to_frb(width, res, center=[0.011,0.018, 0])\n",
    "\n",
    "\n",
    "#Show the frb in terms of density\n",
    "plt.imshow(frb[\"dens\"].d)\n",
    "\n"
   ]
  },
  {
   "cell_type": "code",
   "execution_count": 74,
   "metadata": {},
   "outputs": [],
   "source": [
    "#Import the density from the frb\n",
    "density = frb[\"dens\"].d"
   ]
  },
  {
   "cell_type": "code",
   "execution_count": 75,
   "metadata": {},
   "outputs": [
    {
     "data": {
      "image/png": "[encoded data removed]",
      "text/plain": [
       "<Figure size 432x288 with 1 Axes>"
      ]
     },
     "metadata": {
      "needs_background": "light"
     },
     "output_type": "display_data"
    }
   ],
   "source": [
    "#Plot a slice through of the density\n",
    "plt.plot(density[:,100])\n",
    "plt.show()"
   ]
  },
  {
   "cell_type": "code",
   "execution_count": 71,
   "metadata": {},
   "outputs": [
    {
     "data": {
      "text/plain": [
       "1000"
      ]
     },
     "execution_count": 71,
     "metadata": {},
     "output_type": "execute_result"
    }
   ],
   "source": [
    "len(density[:,1])"
   ]
  },
  {
   "cell_type": "code",
   "execution_count": 72,
   "metadata": {},
   "outputs": [],
   "source": [
    "density_array = np.append(density[:,1], density[:,2])"
   ]
  },
  {
   "cell_type": "code",
   "execution_count": 73,
   "metadata": {},
   "outputs": [
    {
     "data": {
      "text/plain": [
       "array([9.99999997e-07, 9.99999997e-07, 9.99999997e-07, ...,\n",
       "       0.00000000e+00, 0.00000000e+00, 0.00000000e+00])"
      ]
     },
     "execution_count": 73,
     "metadata": {},
     "output_type": "execute_result"
    }
   ],
   "source": [
    "density_array"
   ]
  },
  {
   "cell_type": "code",
   "execution_count": 74,
   "metadata": {},
   "outputs": [
    {
     "data": {
      "text/plain": [
       "2000"
      ]
     },
     "execution_count": 74,
     "metadata": {},
     "output_type": "execute_result"
    }
   ],
   "source": [
    "len(density_array)"
   ]
  },
  {
   "cell_type": "code",
   "execution_count": 75,
   "metadata": {},
   "outputs": [
    {
     "data": {
      "text/plain": [
       "numpy.ndarray"
      ]
     },
     "execution_count": 75,
     "metadata": {},
     "output_type": "execute_result"
    }
   ],
   "source": [
    "type(density_array)"
   ]
  },
  {
   "cell_type": "code",
   "execution_count": 76,
   "metadata": {},
   "outputs": [],
   "source": [
    "#Here, I have combined a number of the density linethroughs into one array\n",
    "density_array = np.column_stack((density[:,100], density[:,200], density[:,300], density[:,400], density[:,500], density[:,600], density[:,700], density[:,800], density[:,900]))\n",
    "density_array.shape\n",
    "density_array[density_array==0]=0.0001"
   ]
  },
  {
   "cell_type": "code",
   "execution_count": 77,
   "metadata": {},
   "outputs": [],
   "source": [
    "#Reshape that array\n",
    "x = np.arange(0, 9, 1)\n",
    "y = np.arange(0, 1000, 1)\n",
    "\n",
    "X, Y = np.meshgrid(x, y)"
   ]
  },
  {
   "cell_type": "code",
   "execution_count": 78,
   "metadata": {},
   "outputs": [
    {
     "data": {
      "text/plain": [
       "(1000, 9)"
      ]
     },
     "execution_count": 78,
     "metadata": {},
     "output_type": "execute_result"
    }
   ],
   "source": [
    "X.shape\n"
   ]
  },
  {
   "cell_type": "code",
   "execution_count": 79,
   "metadata": {},
   "outputs": [
    {
     "data": {
      "image/png": "[encoded data removed]",
      "text/plain": [
       "<Figure size 432x288 with 1 Axes>"
      ]
     },
     "metadata": {
      "needs_background": "light"
     },
     "output_type": "display_data"
    }
   ],
   "source": [
    "#And now we can plot it without stressing over the frb\n",
    "fig = plt.figure()\n",
    "ax = fig.gca(projection='3d', proj_type = 'ortho')\n",
    "surf = ax.plot_surface(X, Y, np.log10(density_array), cmap=cm.jet, linewidth=0, antialiased=False)\n",
    "ax.view_init(azim=270, elev=90)"
   ]
  },
  {
   "cell_type": "code",
   "execution_count": null,
   "metadata": {},
   "outputs": [],
   "source": []
  },
  {
   "cell_type": "code",
   "execution_count": null,
   "metadata": {},
   "outputs": [],
   "source": []
  }
 ],
 "metadata": {
  "kernelspec": {
   "display_name": "Python 3",
   "language": "python",
   "name": "python3"
  },
  "language_info": {
   "codemirror_mode": {
    "name": "ipython",
    "version": 3
   },
   "file_extension": ".py",
   "mimetype": "text/x-python",
   "name": "python",
   "nbconvert_exporter": "python",
   "pygments_lexer": "ipython3",
   "version": "3.7.3"
  }
 },
 "nbformat": 4,
 "nbformat_minor": 2
}
